{
 "cells": [
  {
   "cell_type": "markdown",
   "metadata": {},
   "source": [
    "# 1.1 Area of Triangle using Class & Subclass"
   ]
  },
  {
   "cell_type": "code",
   "execution_count": 60,
   "metadata": {},
   "outputs": [],
   "source": [
    "class pTrgArea():\n",
    "    def __init__(self,s1,s2,s3):\n",
    "        self.side1 =s1\n",
    "        self.side2 =s2\n",
    "        self.side3 =s3\n",
    "        \n",
    "class cTrgArea(pTrgArea):\n",
    "    def __init__(self,s1,s2,s3):\n",
    "        pTrgArea.__init__(self,s1,s2,s3)\n",
    "        self.calcArea()\n",
    "        \n",
    "    def calcArea(self):\n",
    "        s = (self.side1+self.side2+self.side3)/2\n",
    "        self.area = ((s*(s-self.side1)*(s-self.side2)*(s-self.side3))**.5)\n",
    "        return self.area"
   ]
  },
  {
   "cell_type": "code",
   "execution_count": 61,
   "metadata": {},
   "outputs": [
    {
     "name": "stdout",
     "output_type": "stream",
     "text": [
      "(6.274447728276471e-16+10.246950765959598j)\n"
     ]
    }
   ],
   "source": [
    "area1 = cTrgArea(2,4,8)\n",
    "print(area1.area)"
   ]
  },
  {
   "cell_type": "markdown",
   "metadata": {},
   "source": [
    "# 1.2 PYTHON 4 Assignment - return Longest word from a list > than int passed"
   ]
  },
  {
   "cell_type": "code",
   "execution_count": 56,
   "metadata": {},
   "outputs": [],
   "source": [
    "def filter_long_words(data,n):\n",
    "    out_data=[]\n",
    "    for x in data:\n",
    "        if len(x)>n:\n",
    "            out_data.append(x)\n",
    "    return out_data    "
   ]
  },
  {
   "cell_type": "code",
   "execution_count": 57,
   "metadata": {},
   "outputs": [
    {
     "data": {
      "text/plain": [
       "['FIRST', 'SECOND', 'THIRD']"
      ]
     },
     "execution_count": 57,
     "metadata": {},
     "output_type": "execute_result"
    }
   ],
   "source": [
    "filter_long_words(['ABDC','FIRST','SECOND','THIRD'],4)"
   ]
  },
  {
   "cell_type": "markdown",
   "metadata": {},
   "source": [
    "# 2.1 PYTHON 4 Assignment - return list of integers for list of words passed"
   ]
  },
  {
   "cell_type": "code",
   "execution_count": 125,
   "metadata": {},
   "outputs": [],
   "source": [
    "def map_word_int(data):\n",
    "    y=[]\n",
    "    y=[len(x) for x in data]\n",
    "    return y"
   ]
  },
  {
   "cell_type": "code",
   "execution_count": 126,
   "metadata": {},
   "outputs": [
    {
     "data": {
      "text/plain": [
       "[3, 5, 6]"
      ]
     },
     "execution_count": 126,
     "metadata": {},
     "output_type": "execute_result"
    }
   ],
   "source": [
    "map_word_int(['abc','adbcd','filter'])"
   ]
  },
  {
   "cell_type": "markdown",
   "metadata": {},
   "source": [
    "# 2.2 PYTHON 4 Assignment - return True is passed char is Vowel"
   ]
  },
  {
   "cell_type": "code",
   "execution_count": 147,
   "metadata": {},
   "outputs": [],
   "source": [
    "def isVowel(data):\n",
    "    y=['A','E','I','O','U']\n",
    "    if data.upper() in y:\n",
    "        return True\n",
    "    else:\n",
    "        return False"
   ]
  },
  {
   "cell_type": "code",
   "execution_count": 152,
   "metadata": {},
   "outputs": [
    {
     "data": {
      "text/plain": [
       "False"
      ]
     },
     "execution_count": 152,
     "metadata": {},
     "output_type": "execute_result"
    }
   ],
   "source": [
    "isVowel('z')"
   ]
  },
  {
   "cell_type": "code",
   "execution_count": null,
   "metadata": {},
   "outputs": [],
   "source": []
  }
 ],
 "metadata": {
  "kernelspec": {
   "display_name": "Python 3",
   "language": "python",
   "name": "python3"
  },
  "language_info": {
   "codemirror_mode": {
    "name": "ipython",
    "version": 3
   },
   "file_extension": ".py",
   "mimetype": "text/x-python",
   "name": "python",
   "nbconvert_exporter": "python",
   "pygments_lexer": "ipython3",
   "version": "3.6.5"
  }
 },
 "nbformat": 4,
 "nbformat_minor": 2
}
